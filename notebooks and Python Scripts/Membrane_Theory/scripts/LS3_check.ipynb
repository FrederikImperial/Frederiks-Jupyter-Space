{
 "cells": [
  {
   "cell_type": "code",
   "execution_count": 7,
   "metadata": {},
   "outputs": [],
   "source": [
    "# %%\n",
    "#change working directory to same as file\n",
    "change_work_directory = False\n",
    "\n",
    "if change_work_directory:\n",
    "\n",
    "    import os\n",
    "\n",
    "    # Absoluten Pfad der Python-Datei erhalten\n",
    "    script_path = os.path.abspath(__file__)\n",
    "\n",
    "    # Verzeichnis extrahieren\n",
    "    script_dir = os.path.dirname(script_path)\n",
    "\n",
    "    # Arbeitsverzeichnis ändern\n",
    "    os.chdir(script_dir)\n"
   ]
  },
  {
   "cell_type": "code",
   "execution_count": 8,
   "metadata": {},
   "outputs": [
    {
     "name": "stdout",
     "output_type": "stream",
     "text": [
      "Strake_ID_input =  115\n"
     ]
    }
   ],
   "source": [
    "Strake_ID_input = 115\n",
    "thickness_input = 19.05\n",
    "\n",
    "print('Strake_ID_input = ',Strake_ID_input)"
   ]
  },
  {
   "cell_type": "code",
   "execution_count": 9,
   "metadata": {},
   "outputs": [
    {
     "name": "stdout",
     "output_type": "stream",
     "text": [
      "Strake_ID_input: 114.0\n",
      "thickness_input: 19.05\n"
     ]
    }
   ],
   "source": [
    "#Einlesen von thickness und Strake_ID\n",
    "\n",
    "# Dateipfad zur Textdatei\n",
    "file_path = \"../data/input/input_Strake_ID.txt\"\n",
    "\n",
    "# Variablen initialisieren\n",
    "Strake_ID_input = None\n",
    "thickness_input = None\n",
    "\n",
    "# Versuchen, die Werte aus der Textdatei zu lesen\n",
    "try:\n",
    "    with open(file_path, 'r') as file:\n",
    "        for line in file:\n",
    "            parts = line.strip().split('=')\n",
    "            if len(parts) == 2:\n",
    "                var_name = parts[0].strip()\n",
    "                var_value = parts[1].strip()\n",
    "                if var_name == 'Strake_ID_input':\n",
    "                    Strake_ID_input = float(var_value)\n",
    "                elif var_name == 'thickness_input':\n",
    "                    thickness_input = float(var_value)\n",
    "\n",
    "    # Überprüfen, ob alle Variablen erfolgreich gesetzt wurden\n",
    "    if Strake_ID_input is None or thickness_input is None:\n",
    "        raise ValueError(\"Fehler beim Lesen der Werte aus der Datei.\")\n",
    "\n",
    "    # Ausgabe der Variablenwerte (optional)\n",
    "    print(\"Strake_ID_input:\", Strake_ID_input)\n",
    "    print(\"thickness_input:\", thickness_input)\n",
    "\n",
    "except FileNotFoundError:\n",
    "    print(\"Die Datei wurde nicht gefunden.\")\n",
    "except ValueError as e:\n",
    "    print(\"Fehler:\", e)\n"
   ]
  },
  {
   "cell_type": "code",
   "execution_count": 10,
   "metadata": {},
   "outputs": [
    {
     "name": "stdout",
     "output_type": "stream",
     "text": [
      "dataframe df, containing stress resultants of the whole tower for the selected load case, loaded from ../data/temporary/membrane_stress_resultants_for_lc.csv\n"
     ]
    }
   ],
   "source": [
    "import pandas as pd\n",
    "\n",
    "# Laden des DataFrames aus der CSV-Datei und Festlegen von 'index' als Index\n",
    "loaded_df = pd.read_csv('../data/temporary/membrane_stress_resultants_for_lc.csv', index_col='index')\n",
    "\n",
    "print('dataframe df, containing stress resultants of the whole tower for the selected load case, loaded from ../data/temporary/membrane_stress_resultants_for_lc.csv')\n"
   ]
  },
  {
   "cell_type": "code",
   "execution_count": 11,
   "metadata": {},
   "outputs": [],
   "source": [
    "create_Subset = True\n",
    "\n",
    "if create_Subset:\n",
    "\n",
    "    #Create Subset of dataframe to select strake\n",
    "\n",
    "    # Subset des DataFrame basierend auf der Bedingung für Strake-ID\n",
    "    subset_df = loaded_df[(loaded_df['Strake_ID'] >= Strake_ID_input) & (loaded_df['Strake_ID'] <= Strake_ID_input)]\n"
   ]
  },
  {
   "cell_type": "code",
   "execution_count": 12,
   "metadata": {},
   "outputs": [
    {
     "name": "stdout",
     "output_type": "stream",
     "text": [
      "L_strake =  2368.0\n",
      "r_value =  2750.0\n",
      "Minimaler Wert 'N_z_min': -4062.217522914757\n",
      "Zugehöriger Wert 'theta': 3.141592653589793\n",
      "Zugehöriger Wert 'z': 32961.0\n"
     ]
    }
   ],
   "source": [
    "#Calculate Strake Height\n",
    "\n",
    "# Voraussetzung: subset_df ist bereits definiert und enthält den gewünschten Teil des DataFrames\n",
    "\n",
    "# Berechnung der Differenz zwischen dem größten und kleinsten Wert in der Spalte 'z' um L_strake zu erhalten\n",
    "L_strake = subset_df['z'].max() - subset_df['z'].min() + 1\n",
    "\n",
    "print('L_strake = ',L_strake)\n",
    "\n",
    "r = subset_df.iloc[0]['r']\n",
    "print('r_value = ',r)\n",
    "\n",
    "\n",
    "# Annahme: subset_df ist bereits definiert und enthält die Spalten 'N_z_total', 'theta' und 'z'\n",
    "\n",
    "# Index der Zeile mit dem maximalen Wert von 'N_z_total' in subset_df\n",
    "min_index = subset_df['N_z_total'].idxmin()\n",
    "\n",
    "# Theta und z aus der gleichen Zeile wie N_z_total max auslesen\n",
    "theta_value = subset_df.at[min_index, 'theta']\n",
    "z_value = subset_df.at[min_index, 'z']\n",
    "\n",
    "# Maximalen Wert von N_z_total auslesen\n",
    "min_N_z = subset_df.at[min_index, 'N_z_total']\n",
    "\n",
    "# Ausgabe der Werte\n",
    "print(\"Minimaler Wert 'N_z_min':\", min_N_z)\n",
    "print(\"Zugehöriger Wert 'theta':\", theta_value)\n",
    "print(\"Zugehöriger Wert 'z':\", z_value)\n"
   ]
  },
  {
   "cell_type": "code",
   "execution_count": 13,
   "metadata": {},
   "outputs": [
    {
     "name": "stdout",
     "output_type": "stream",
     "text": [
      "omega = 10.345890108536558\n",
      "Omega_2 = 0.07166880238822597\n",
      "sigma_x_Rcr = 838.2 [N/mm²]\n",
      "alpha_xI 0.5283679580493376\n",
      "delta_0_over_t = 0.3003715983791758\n",
      "alpha_x = 0.43854540518095014\n",
      "Plastic range factor (beta_x): 0.43626348265694703\n",
      "Interaction exponent (eta_x0): 1.3199628401620824\n",
      "Interaction exponent (eta_xp): 1.5008985485631734\n",
      "Lambda_x_bar: 0.6507892167429995\n",
      "Lambda_xp_bar: 0.8820012455989692\n",
      "Eta_x: 1.4474018150638992\n",
      "Chi: 0.7373227625728055\n",
      "Sigma_x_Rk: 261.74958071334595\n",
      "Sigma_x_Rd: 237.95416428485993\n",
      "Sigma_x_Rd * t: 4533.026829626582  > N_z =  4062.217522914757  ?\n",
      "OK!\n"
     ]
    }
   ],
   "source": [
    "t=thickness_input\n",
    "\n",
    "\n",
    "import math\n",
    "\n",
    "#relative length parameters\n",
    "# Calculate omega\n",
    "omega =L_strake / math.sqrt(r * t)\n",
    "\n",
    "# Calculate Omega\n",
    "Omega_2 = (t / r) * omega\n",
    "\n",
    "print(\"omega =\", omega)\n",
    "print(\"Omega_2 =\", Omega_2)\n",
    "\n",
    "#length domains\n",
    "#assume medium length cylinder. check later\n",
    "\n",
    "C_x = 1\n",
    "\n",
    "#take L for single strake and assume LC1 or LC2 at both edges. Further gloabal buckling checks required!\n",
    "E = 200000\n",
    "\n",
    "# Berechnung von sigma_x_Rcr\n",
    "sigma_x_Rcr = 0.605 * E * C_x * (t / r)\n",
    "\n",
    "print(\"sigma_x_Rcr =\", sigma_x_Rcr, \"[N/mm²]\")\n",
    "\n",
    "# Given parameters\n",
    "lambda_x0_bar = 0.1\n",
    "alpha_xG = 0.83\n",
    "Q_x = 40.0 #Change to 40 for Execution controll class A\n",
    "\n",
    "\n",
    "# Calculate alpha_xI\n",
    "delta_0_over_t = (1 / Q_x) * math.sqrt(r/t)\n",
    "alpha_xI = 1 / (1 + 2.2 * delta_0_over_t ** 0.75)\n",
    "\n",
    "# Calculate alpha_x\n",
    "alpha_x = alpha_xG * alpha_xI\n",
    "\n",
    "print(\"alpha_xI\", alpha_xI)\n",
    "print(\"delta_0_over_t =\", delta_0_over_t)\n",
    "print(\"alpha_x =\", alpha_x)\n",
    "\n",
    "# Given parameters\n",
    "f_yk = 355  # in N/mm^2\n",
    "\n",
    "#plastic range factor\n",
    "beta_x = 1 - 0.75 / (1 + 1.1 * delta_0_over_t)\n",
    "\n",
    "#interaction exponent\n",
    "eta_x0 = 1.35 - 0.10 * delta_0_over_t\n",
    "eta_xp = 1 / (0.45 + 0.72 * delta_0_over_t)\n",
    "\n",
    "#from Cl. 9.5.2 (3),(5)\n",
    "lambda_x_bar = math.sqrt(f_yk / sigma_x_Rcr)\n",
    "lambda_xp_bar = math.sqrt(alpha_x / (1 - beta_x))\n",
    "\n",
    "\n",
    "eta_x = ((lambda_x_bar * (eta_xp - eta_x0) + lambda_xp_bar * eta_x0 - lambda_x0_bar * eta_xp) / (lambda_xp_bar - lambda_x0_bar))\n",
    "chi_xh = 1.10\n",
    "chi_h = 1.10\n",
    "chi = 1\n",
    "\n",
    "# Calculation of chi based on lambda values\n",
    "if lambda_x_bar <= lambda_x0_bar:\n",
    "    chi = chi_h - (lambda_x_bar / lambda_x0_bar) * (chi_h - 1)\n",
    "elif lambda_x0_bar < lambda_x_bar < lambda_xp_bar:\n",
    "    chi = 1 - beta_x * ((lambda_x_bar - lambda_x0_bar) / (lambda_xp_bar - lambda_x0_bar)) ** eta_x\n",
    "else:\n",
    "    chi = alpha_x / lambda_x_bar ** 2\n",
    "\n",
    "sigma_x_Rk = chi * f_yk\n",
    "sigma_x_Rd = sigma_x_Rk / 1.1\n",
    "\n",
    "# Check if sigma_x_Rd * t exceeds the limit\n",
    "sigma_x_Rd_t = sigma_x_Rd * t\n",
    "\n",
    "Utilization_output = -min_N_z /sigma_x_Rd_t\n",
    "\n",
    "\n",
    "print(\"Plastic range factor (beta_x):\", beta_x)\n",
    "print(\"Interaction exponent (eta_x0):\", eta_x0)\n",
    "print(\"Interaction exponent (eta_xp):\", eta_xp)\n",
    "print(\"Lambda_x_bar:\", lambda_x_bar)\n",
    "print(\"Lambda_xp_bar:\", lambda_xp_bar)\n",
    "print(\"Eta_x:\", eta_x)\n",
    "print(\"Chi:\", chi)\n",
    "print(\"Sigma_x_Rk:\", sigma_x_Rk)\n",
    "print(\"Sigma_x_Rd:\", sigma_x_Rd)\n",
    "print(\"Sigma_x_Rd * t:\", sigma_x_Rd_t, \" > N_z = \", -min_N_z, \" ?\")\n",
    "\n",
    "if sigma_x_Rd_t > -min_N_z:\n",
    "    print(\"OK!\")\n",
    "else:\n",
    "    print(\"NOT OK!\")\n"
   ]
  },
  {
   "cell_type": "code",
   "execution_count": 17,
   "metadata": {},
   "outputs": [
    {
     "name": "stdout",
     "output_type": "stream",
     "text": [
      "Der Wert wurde erfolgreich in die Datei geschrieben.\n"
     ]
    }
   ],
   "source": [
    "# Dateipfad zur Ausgabedatei\n",
    "file_path = \"../data/output/output_Utilization.txt\"\n",
    "\n",
    "# Versuchen, den Wert in die Datei zu schreiben\n",
    "try:\n",
    "    with open(file_path, 'w') as file:\n",
    "        file.write(f\"Utilization = {Utilization_output}\\n\")\n",
    "    print(\"Der Wert wurde erfolgreich in die Datei geschrieben.\")\n",
    "except IOError:\n",
    "    print(\"Fehler beim Schreiben in die Datei.\")"
   ]
  }
 ],
 "metadata": {
  "kernelspec": {
   "display_name": "Python 3",
   "language": "python",
   "name": "python3"
  },
  "language_info": {
   "codemirror_mode": {
    "name": "ipython",
    "version": 3
   },
   "file_extension": ".py",
   "mimetype": "text/x-python",
   "name": "python",
   "nbconvert_exporter": "python",
   "pygments_lexer": "ipython3",
   "version": "3.10.11"
  }
 },
 "nbformat": 4,
 "nbformat_minor": 2
}
